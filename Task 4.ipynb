{
 "cells": [
  {
   "cell_type": "code",
   "execution_count": 84,
   "metadata": {},
   "outputs": [],
   "source": [
    "import numpy as np\n",
    "import matplotlib.pyplot as plt\n",
    "from scipy.linalg import block_diag\n",
    "from numpy import kron\n",
    "from random import random\n",
    "from math import pi\n",
    "from scipy.optimize import minimize    "
   ]
  },
  {
   "cell_type": "markdown",
   "metadata": {},
   "source": [
    "All the necessary matrices and gates for the VQE-circuit are recreated here:"
   ]
  },
  {
   "cell_type": "code",
   "execution_count": 85,
   "metadata": {},
   "outputs": [],
   "source": [
    "np.set_printoptions(precision=4,suppress=True)\n",
    "\n",
    "#Pauli matrices\n",
    "I  = np.array([[ 1, 0],\n",
    "               [ 0, 1]])\n",
    "Sigma_x = np.array([[ 0, 1],\n",
    "               [ 1, 0]])\n",
    "Sigma_y = np.array([[ 0,-1j],\n",
    "               [1j, 0]])\n",
    "Sigma_z = np.array([[ 1, 0],\n",
    "               [ 0,-1]])\n",
    "\n",
    "#Hadamard matrix\n",
    "Hdm = (1/np.sqrt(2))*np.array([[ 1, 1],[ 1, -1]])\n",
    "\n",
    "#Phase matrix\n",
    "S = np.array([[ 1, 0],[ 0, 1j]])\n",
    "\n",
    "#Single qubit basis states |0> and |1>\n",
    "q0 = np.array([[1],[0]])\n",
    "q1 = np.array([[0],[1]])\n",
    "\n",
    "#Rotation matrices, as theta functions\n",
    "Rx = lambda theta : np.array([[    np.cos(theta/2),-1j*np.sin(theta/2)],[-1j*np.sin(theta/2),    np.cos(theta/2)]])\n",
    "Ry = lambda theta : np.array([[    np.cos(theta/2),   -np.sin(theta/2)],[    np.sin(theta/2),    np.cos(theta/2)]])\n",
    "Rz = lambda theta : np.array([[np.exp(-1j*theta/2),                0.0],[                0.0, np.exp(1j*theta/2)]])\n",
    "\n",
    "#Projection matrices |0><0| and |1><1|\n",
    "P0  = np.dot(q0,q0.conj().T)\n",
    "P1  = np.dot(q1,q1.conj().T)\n",
    "\n",
    "#CNOTij, where i is control qubit and j is target qubit\n",
    "CNOT01 = np.kron(I,P0) + np.kron(Sigma_x,P1) # control -> q0, target -> q1\n",
    "\n",
    "#Our initial state \n",
    "\n",
    "psi_0 = np.zeros((4,1))\n",
    "psi_0[0] = 1\n",
    "\n",
    "# Our Hamiltonian \n",
    "H = [[1, 0, 0, 0],\n",
    "    [0, 0, -1, 0],\n",
    "    [0, -1, 0, 0],\n",
    "    [0, 0, 0, 1]]\n"
   ]
  },
  {
   "cell_type": "markdown",
   "metadata": {},
   "source": [
    "The next part is not a generic type of code for the VQE problem but specific solution for the given Hamiltonian, in order to derive the coefficients of the decomposed form"
   ]
  },
  {
   "cell_type": "code",
   "execution_count": 86,
   "metadata": {},
   "outputs": [
    {
     "name": "stdout",
     "output_type": "stream",
     "text": [
      "0.5\t*\t( I /otimes I )\n",
      "-0.5\t*\t( σ_x /otimes σ_x )\n",
      "-0.5\t*\t( σ_y /otimes σ_y )\n",
      "0.5\t*\t( σ_z /otimes σ_z )\n"
     ]
    }
   ],
   "source": [
    "def HS(M1, M2):\n",
    "    #Hilbert-Schmidt-Product of two matrices M1, M2\n",
    "    return (np.dot(M1.conj().T, M2)).trace()\n",
    "\n",
    "\n",
    "def c2s(c):\n",
    "    #Return a string representation of a complex number c\n",
    "    if c == 0.0:\n",
    "        return \"0\"\n",
    "    if c.imag == 0:\n",
    "        return \"%g\" % c.real\n",
    "    elif c.real == 0:\n",
    "        return \"%gj\" % c.imag\n",
    "    else:\n",
    "        return \"%g+%gj\" % (c.real, c.imag)\n",
    "    \n",
    "def decompose(H):\n",
    "    #Decompose Hermitian 4x4 matrix H into Pauli matrices\n",
    "    \n",
    "    Sigma = [I, Sigma_x, Sigma_y, Sigma_z]\n",
    "    labels = ['I', 'σ_x', 'σ_y', 'σ_z']\n",
    "    for i in range(4):\n",
    "        for j in range(4):\n",
    "            label = labels[i] + ' /otimes ' + labels[j]\n",
    "            a_ij = 0.25 * HS(np.kron(Sigma[i], Sigma[j]), H)\n",
    "            if a_ij != 0.0:\n",
    "                print (\"%s\\t*\\t( %s )\" % (c2s(a_ij), label))\n",
    "                \n",
    "              \n",
    "            \n",
    "decompose(H)            "
   ]
  },
  {
   "cell_type": "code",
   "execution_count": 87,
   "metadata": {},
   "outputs": [],
   "source": [
    "#The decomposed form (not a generalized case) and derive the coefficients\n",
    "\n",
    "a = +0.5\n",
    "b = -0.5\n",
    "c= -0.5\n",
    "d = +0.5\n",
    "\n",
    "H_decomposed = (a * np.kron( I, I) + b * np.kron(Sigma_z,Sigma_z) + c * np.kron(Sigma_y,Sigma_y) + d * np.kron(Sigma_x,Sigma_x))  \n",
    "\n",
    "exact_energy = np.linalg.eigvalsh(H)[0]"
   ]
  },
  {
   "cell_type": "markdown",
   "metadata": {},
   "source": [
    "Here is the main calculation of the expectation value via the VQE. This was an approach based on unitary transformation of basic Pauli measurements. Any unitary transformation can either act on the operator or on the state, the final result is derived by applying the chosen transformation and then measuring Z, thus rendering possible the acquisition of any Pauli measurement you want."
   ]
  },
  {
   "cell_type": "code",
   "execution_count": 88,
   "metadata": {},
   "outputs": [
    {
     "name": "stdout",
     "output_type": "stream",
     "text": [
      "VQE: \n",
      "[1.5708]\n",
      "-0.9999999999997558\n"
     ]
    }
   ],
   "source": [
    "#Choosing our ansatz (changes in the ansatz yields different results)\n",
    "\n",
    "ansatz = lambda theta: (np.dot(np.dot(np.kron(Rx(np.pi/2), I),np.dot(CNOT10, np.dot(np.kron(I,Rz(theta)),\n",
    "                    CNOT10))), np.kron(Hdm,I)))\n",
    "\n",
    "def VQE(theta,ansatz,psi0):\n",
    "    #This will depend on the Hamiltonian + coefficients\n",
    "    circuit = ansatz(theta[0])\n",
    "    psi = np.dot(circuit,psi_0)\n",
    "    \n",
    "    #For 2 qubits, assume we can only take Pauli Sigma_z measurements np.kron(X, I)\n",
    "    measureZ = lambda U: np.dot(np.conj(U).T,np.dot(np.kron(Sz,I),U))\n",
    "    \n",
    "    expectation_value = 0.0\n",
    "    \n",
    "    #These are the unitary transformations of the Pauli measurements \n",
    "    \n",
    "    #For Identity\n",
    "    expectation_value += a \n",
    "    \n",
    "    #For Pauli - Z\n",
    "    U = CNOT01\n",
    "    expectation_value += b * np.dot(psi.conj().T,np.dot(measureZ(U),psi))\n",
    "\n",
    "    #For Pauli - X\n",
    "    U = np.dot(CNOT01,np.kron(Hdm,Hdm))\n",
    "    expectation_value += c * np.dot(psi.conj().T,np.dot(measureZ(U),psi))\n",
    "\n",
    "    #For Pauli - Y\n",
    "    U = np.dot(CNOT01,np.kron(np.dot(Hdm,S.conj().T),np.dot(Hdm,S.conj().T)))\n",
    "    expectation_value += d * np.dot(psi.conj().T,np.dot(measureZ(U),psi))\n",
    "\n",
    "    return np.real(expectation_value)\n",
    "\n",
    "theta  = [0.0]\n",
    "result = minimize(projective_expected,theta,args=(ansatz,psi_0))\n",
    "theta  = result.x\n",
    "val    = result.fun\n",
    "\n",
    "print(\"VQE: \")\n",
    "print(theta)\n",
    "print(val + exact_energy)"
   ]
  }
 ],
 "metadata": {
  "kernelspec": {
   "display_name": "Python 3",
   "language": "python",
   "name": "python3"
  },
  "language_info": {
   "codemirror_mode": {
    "name": "ipython",
    "version": 3
   },
   "file_extension": ".py",
   "mimetype": "text/x-python",
   "name": "python",
   "nbconvert_exporter": "python",
   "pygments_lexer": "ipython3",
   "version": "3.7.6"
  }
 },
 "nbformat": 4,
 "nbformat_minor": 4
}
